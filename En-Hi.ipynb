{
 "cells": [
  {
   "cell_type": "markdown",
   "id": "d1690365-d208-4e6d-9ee7-2851acc64322",
   "metadata": {},
   "source": [
    "# NLP English-Hindi Translation WebApp #"
   ]
  },
  {
   "cell_type": "markdown",
   "id": "9223d673-dbc7-418c-bdeb-5ebea0447970",
   "metadata": {},
   "source": [
    "This project is a WebApp for English to Hindi translation, built using Natural Language Processing (NLP) techniques. It uses the Helsinki-NLP/opus-mt-en-hi model from Hugging Face for high-quality translation and employs Gradio to create a user-friendly interface. The app is designed to translate English sentences into Hindi quickly and efficiently."
   ]
  },
  {
   "cell_type": "markdown",
   "id": "32071864",
   "metadata": {},
   "source": [
    "## 1. Install Dependencies"
   ]
  },
  {
   "cell_type": "markdown",
   "id": "21689303-5a34-4334-9920-2e0ad99879ca",
   "metadata": {},
   "source": [
    "To use the pre-trained transformer model and build the Gradio interface, we need to install the following dependencies"
   ]
  },
  {
   "cell_type": "code",
   "execution_count": null,
   "id": "3fb8b649",
   "metadata": {},
   "outputs": [],
   "source": [
    "#!pip install torch torchvision torchaudio"
   ]
  },
  {
   "cell_type": "code",
   "execution_count": null,
   "id": "e90c4a00-aa7e-4340-984e-bca828c61bc3",
   "metadata": {},
   "outputs": [],
   "source": [
    "#pip install protobuf==3.19.6\n"
   ]
  },
  {
   "cell_type": "code",
   "execution_count": null,
   "id": "50075358-f023-40b8-a105-8fa9a2a69a0c",
   "metadata": {},
   "outputs": [],
   "source": [
    "#pip install tensorflow-io-gcs-filesystem\n"
   ]
  },
  {
   "cell_type": "code",
   "execution_count": null,
   "id": "73cbff87-a26c-4b3c-8ba9-108f0480b8fc",
   "metadata": {},
   "outputs": [],
   "source": [
    "#pip install libclang\n"
   ]
  },
  {
   "cell_type": "code",
   "execution_count": null,
   "id": "5a4264d0",
   "metadata": {},
   "outputs": [],
   "source": [
    "#!pip install transformers ipywidgets gradio --upgrade"
   ]
  },
  {
   "cell_type": "code",
   "execution_count": null,
   "id": "228cf65d-0f68-4aed-8666-f71d0fd2778d",
   "metadata": {},
   "outputs": [],
   "source": [
    "#pip install gradio --upgrade"
   ]
  },
  {
   "cell_type": "code",
   "execution_count": null,
   "id": "bef954cb-7d2f-4b09-9b73-627c78eaa120",
   "metadata": {},
   "outputs": [],
   "source": [
    "#pip install transformers torch sentencepiece\n"
   ]
  },
  {
   "cell_type": "code",
   "execution_count": null,
   "id": "05514635-7a76-4585-86d6-a00c42405ee7",
   "metadata": {},
   "outputs": [],
   "source": [
    "#pip show sentencepiece\n"
   ]
  },
  {
   "cell_type": "code",
   "execution_count": 17,
   "id": "63547f3b",
   "metadata": {},
   "outputs": [],
   "source": [
    "import gradio as gr                   ,
    "from transformers import pipeline     
   ]
  },
  {
   "cell_type": "markdown",
   "id": "0dfbd02b",
   "metadata": {},
   "source": [
    "## 2. Load Up Pipeline"
   ]
  },
  {
   "cell_type": "markdown",
   "id": "4585771f-7c05-4028-90fb-c8912c25bb27",
   "metadata": {},
   "source": [
    "Here, we load the English-to-Hindi translation model from Hugging Face"
   ]
  },
  {
   "cell_type": "code",
   "execution_count": 18,
   "id": "b83d74a1",
   "metadata": {},
   "outputs": [
    {
     "name": "stderr",
     "output_type": "stream",
     "text": [
      "C:\\Users\\Admin\\.conda\\envs\\dl_08\\lib\\site-packages\\transformers\\models\\marian\\tokenization_marian.py:175: UserWarning: Recommended: pip install sacremoses.\n",
      "  warnings.warn(\"Recommended: pip install sacremoses.\")\n"
     ]
    }
   ],
   "source": [
    "# Load the translation pipeline for English to hindi\n",
    "translation_pipeline = pipeline(\"translation\", model=\"Helsinki-NLP/opus-mt-en-hi\")"
   ]
  },
  {
   "cell_type": "code",
   "execution_count": 37,
   "id": "54817648",
   "metadata": {},
   "outputs": [],
   "source": [
    "results = translation_pipeline('Do you heard the name Hariharan?')"
   ]
  },
  {
   "cell_type": "code",
   "execution_count": 38,
   "id": "f3ea7607",
   "metadata": {},
   "outputs": [
    {
     "data": {
      "text/plain": [
       "'आप हरिहरनाम नाम सुना है?'"
      ]
     },
     "execution_count": 38,
     "metadata": {},
     "output_type": "execute_result"
    }
   ],
   "source": [
    "results[0]['translation_text']"
   ]
  },
  {
   "cell_type": "markdown",
   "id": "3cfc9d30",
   "metadata": {},
   "source": [
    "## 3. Define Translation Function"
   ]
  },
  {
   "cell_type": "markdown",
   "id": "84eef0b1-7445-452d-889c-94bff3db2bf7",
   "metadata": {},
   "source": [
    "Define a function to translate user input"
   ]
  },
  {
   "cell_type": "code",
   "execution_count": 11,
   "id": "56f67b8e",
   "metadata": {},
   "outputs": [],
   "source": [
    "def translate_transformers(from_text):\n",
    "    results = translation_pipeline(from_text)\n",
    "    return results[0]['translation_text']"
   ]
  },
  {
   "cell_type": "code",
   "execution_count": 12,
   "id": "8eb602ca",
   "metadata": {},
   "outputs": [
    {
     "data": {
      "text/plain": [
       "'बड़े होने के लिए अच्छी बातों को छोड़ने से मत डरिए'"
      ]
     },
     "execution_count": 12,
     "metadata": {},
     "output_type": "execute_result"
    }
   ],
   "source": [
    "translate_transformers('Do not be afraid to give up the good to go for great')"
   ]
  },
  {
   "cell_type": "markdown",
   "id": "903f8a97-761b-418c-8d53-9e4a05d887a5",
   "metadata": {},
   "source": [
    "## 4. Create Gradio Interface"
   ]
  },
  {
   "cell_type": "markdown",
   "id": "6faa9c3c-b975-4b2f-9c8e-72ab2eb63950",
   "metadata": {},
   "source": [
    "Build a user-friendly interface using Gradio"
   ]
  },
  {
   "cell_type": "code",
   "execution_count": 14,
   "id": "07e934d6",
   "metadata": {},
   "outputs": [],
   "source": [
    "# Create Gradio interface using updated API\n",
    "interface = gr.Interface(\n",
    "    fn=translate_transformers, \n",
    "    inputs=gr.Textbox(lines=2, placeholder=\"Enter text in English\"), \n",
    "    outputs=gr.Textbox(label=\"Translated Text\"), \n",
    "    title=\"English to Hindi Translator\"\n",
    ")"
   ]
  },
  {
   "cell_type": "code",
   "execution_count": null,
   "id": "8dd3b825",
   "metadata": {},
   "outputs": [],
   "source": [
    "interface.launch()"
   ]
  },
  {
   "cell_type": "code",
   "execution_count": null,
   "id": "ec79ce6f-e3b3-4203-a501-f416a4009137",
   "metadata": {},
   "outputs": [],
   "source": []
  }
 ],
 "metadata": {
  "kernelspec": {
   "display_name": "Python 3 (ipykernel)",
   "language": "python",
   "name": "python3"
  },
  "language_info": {
   "codemirror_mode": {
    "name": "ipython",
    "version": 3
   },
   "file_extension": ".py",
   "mimetype": "text/x-python",
   "name": "python",
   "nbconvert_exporter": "python",
   "pygments_lexer": "ipython3",
   "version": "3.8.18"
  }
 },
 "nbformat": 4,
 "nbformat_minor": 5
}
